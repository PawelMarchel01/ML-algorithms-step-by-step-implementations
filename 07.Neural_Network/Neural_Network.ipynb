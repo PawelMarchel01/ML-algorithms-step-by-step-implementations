{
  "cells": [
    {
      "cell_type": "code",
      "execution_count": 3,
      "metadata": {
        "id": "oHVaZBoB1qWl"
      },
      "outputs": [],
      "source": [
        "import numpy as np\n",
        "import time\n",
        "from sklearn.datasets import make_blobs\n",
        "from sklearn.model_selection import train_test_split\n",
        "import matplotlib.pyplot as plt\n",
        "from sklearn.datasets import fetch_openml\n",
        "from sklearn.metrics import confusion_matrix\n",
        "from mlxtend.plotting import plot_decision_regions\n",
        "from sklearn.metrics import roc_curve, auc"
      ]
    },
    {
      "cell_type": "markdown",
      "source": [
        "# Neural Network\n",
        "\n",
        "Step-by-Step implementation of a neural network that will later be trained on the MNIST dataset.\n",
        "\n"
      ],
      "metadata": {
        "id": "oYanL4VbY4VI"
      }
    },
    {
      "cell_type": "markdown",
      "source": [
        "### Class NeuralNetwork:\n",
        "\n",
        "- **init:** The constructor initializes an instance of the `NeuralNetwork` class with specified layer sizes and activation functions. By default, activations are set to sigmoid functions for all layers.\n",
        "\n",
        "- **initialize:** This method initializes the neural network parameters such as weights and biases, randomly sampling them from a normal distribution.\n",
        "\n",
        "- **forward:** Performs forward propagation for the input data `x`, calculating outputs at each layer using the current weights and biases.\n",
        "\n",
        "- **backward:** Executes backpropagation for input `x`, computing loss gradients for each network parameter to update weights and biases during training.\n",
        "\n",
        "- **optimize:** Updates the network’s weights and biases by applying gradient-based optimization to minimize the loss function.\n",
        "\n",
        "- **train:** Trains the neural network model on training data `x_train` and labels `y_train` for a specified number of epochs and batch size, using forward and backward propagation. At the end of each epoch, metrics such as accuracy, sensitivity, specificity, and execution time are displayed.\n"
      ],
      "metadata": {
        "id": "blEQBklBZYoW"
      }
    },
    {
      "cell_type": "code",
      "source": [
        "class NeuralNetwork():\n",
        "\n",
        "    def __init__(self, sizes, activations=None):\n",
        "        self.sizes = sizes\n",
        "        if activations is None:\n",
        "            activations = ['sigmoid'] * (len(sizes) - 1)\n",
        "\n",
        "        self.activations = []\n",
        "        self.activation_derivatives = []\n",
        "        for activation in activations:\n",
        "            if activation == 'relu':\n",
        "                self.activations.append(self.relu)\n",
        "                self.activation_derivatives.append(self.relu_derivative)\n",
        "            else:\n",
        "                self.activations.append(self.sigmoid)\n",
        "                self.activation_derivatives.append(self.sigmoid_derivative)\n",
        "\n",
        "        self.params = self.initialize()\n",
        "        self.cache = {}\n",
        "\n",
        "    def relu(self, x):\n",
        "        return np.maximum(0, x)\n",
        "\n",
        "    def relu_derivative(self, x):\n",
        "        return np.where(x <= 0, 0, 1)\n",
        "\n",
        "    def sigmoid(self, x):\n",
        "        return 1 / (1 + np.exp(-x))\n",
        "\n",
        "    def sigmoid_derivative(self, x):\n",
        "        return self.sigmoid(x) * (1 - self.sigmoid(x))\n",
        "\n",
        "    def initialize(self):\n",
        "        params = {}\n",
        "        for i in range(1, len(self.sizes)):\n",
        "            input_size = self.sizes[i-1]\n",
        "            output_size = self.sizes[i]\n",
        "\n",
        "            params[f\"W{i}\"] = np.random.randn(output_size, input_size) * np.sqrt(1. / input_size)\n",
        "            params[f\"b{i}\"] = np.zeros((output_size, 1))\n",
        "\n",
        "        return params\n",
        "\n",
        "    def forward(self, x):\n",
        "        self.cache[\"X\"] = x\n",
        "        self.cache[\"A0\"] = x.T\n",
        "        for i in range(1, len(self.sizes)):\n",
        "            z = np.dot(self.params[f\"W{i}\"], self.cache[f\"A{i-1}\"]) + self.params[f\"b{i}\"]\n",
        "            self.cache[f\"Z{i}\"] = z\n",
        "            if i == len(self.sizes) - 1:\n",
        "                self.cache[f\"A{i}\"] = self.sigmoid(z)\n",
        "            else:\n",
        "                self.cache[f\"A{i}\"] = self.activations[i-1](z)\n",
        "        return self.cache[f\"A{len(self.sizes)-1}\"]\n",
        "\n",
        "\n",
        "    def backward(self, y, output):\n",
        "        current_batch_size = y.shape[0]\n",
        "        grads = {}\n",
        "\n",
        "        Z = output - y.T\n",
        "        for i in range(len(self.sizes)-1, 0, -1):\n",
        "            if i == len(self.sizes) - 1:\n",
        "                W = (1. / current_batch_size) * np.dot(Z, self.cache[f\"A{i-1}\"].T)\n",
        "                b = (1. / current_batch_size) * np.sum(Z, axis=1, keepdims=True)\n",
        "            else:\n",
        "                Z = np.dot(self.params[f\"W{i+1}\"].T, Z) * self.activation_derivatives[i-1](self.cache[f\"Z{i}\"])\n",
        "                W = (1. / current_batch_size) * np.dot(Z, self.cache[f\"A{i-1}\"].T)\n",
        "                b = (1. / current_batch_size) * np.sum(Z, axis=1, keepdims=True)\n",
        "            grads[f\"W{i}\"] = W\n",
        "            grads[f\"b{i}\"] = b\n",
        "\n",
        "        self.grads = grads\n",
        "        return grads\n",
        "\n",
        "    def optimize(self, l_rate=0.1):\n",
        "        for key in self.params:\n",
        "            self.params[key] = self.params[key] - l_rate * self.grads[key]\n",
        "\n",
        "    def accuracy(self, y, output):\n",
        "        return np.mean(np.argmax(y, axis=-1) == np.argmax(output.T, axis=-1))\n",
        "\n",
        "    def confusion_matrix(self, x, y):\n",
        "        predictions = self.predict(x)\n",
        "        return confusion_matrix(np.argmax(y, axis=-1), predictions)\n",
        "\n",
        "    def sensitivity_specificity(self, confusion_matrix):\n",
        "        num_classes = confusion_matrix.shape[0]\n",
        "\n",
        "        if num_classes == 2:\n",
        "            true_positive = confusion_matrix[1, 1]\n",
        "            false_positive = confusion_matrix[0, 1]\n",
        "            false_negative = confusion_matrix[1, 0]\n",
        "            true_negative = confusion_matrix[0, 0]\n",
        "\n",
        "            sensitivity = true_positive / (true_positive + false_negative) if (true_positive + false_negative) > 0 else 0\n",
        "            specificity = true_negative / (true_negative + false_positive) if (true_negative + false_positive) > 0 else 0\n",
        "        else:\n",
        "            sensitivity = np.zeros(num_classes)\n",
        "            specificity = np.zeros(num_classes)\n",
        "\n",
        "            for i in range(num_classes):\n",
        "                true_positive = confusion_matrix[i, i]\n",
        "                false_positive = np.sum(confusion_matrix[:, i]) - true_positive\n",
        "                false_negative = np.sum(confusion_matrix[i, :]) - true_positive\n",
        "                true_negative = np.sum(confusion_matrix) - true_positive - false_positive - false_negative\n",
        "\n",
        "                sensitivity[i] = true_positive / (true_positive + false_negative) if (true_positive + false_negative) > 0 else 0\n",
        "                specificity[i] = true_negative / (true_negative + false_positive) if (true_negative + false_positive) > 0 else 0\n",
        "\n",
        "            sensitivity = np.mean(sensitivity)\n",
        "            specificity = np.mean(specificity)\n",
        "\n",
        "        return sensitivity, specificity\n",
        "\n",
        "    def predict(self, x):\n",
        "        output = self.forward(x)\n",
        "        predictions = np.argmax(output, axis=0)\n",
        "        return predictions\n",
        "\n",
        "    def train(self, x_train, y_train, x_test, y_test, epochs=10,\n",
        "              batch_size=64, l_rate=0.1):\n",
        "        self.epochs = epochs\n",
        "        self.batch_size = batch_size\n",
        "        num_batches = -(-x_train.shape[0] // self.batch_size)\n",
        "\n",
        "        for i in range(self.epochs):\n",
        "            start_time = time.time()\n",
        "            permutation = np.random.permutation(x_train.shape[0])\n",
        "            x_train_shuffled = x_train[permutation]\n",
        "            y_train_shuffled = y_train[permutation]\n",
        "\n",
        "            for j in range(num_batches):\n",
        "                begin = j * self.batch_size\n",
        "                end = min(begin + self.batch_size, x_train.shape[0]-1)\n",
        "                x = x_train_shuffled[begin:end]\n",
        "                y = y_train_shuffled[begin:end]\n",
        "\n",
        "                output = self.forward(x)\n",
        "                grad = self.backward(y, output)\n",
        "                self.optimize(l_rate=l_rate)\n",
        "\n",
        "            output = self.forward(x_test)\n",
        "            test_acc = self.accuracy(y_test, output)\n",
        "            confusion = self.confusion_matrix(x_test, y_test)\n",
        "            sensitivity, specificity = self.sensitivity_specificity(confusion)\n",
        "\n",
        "            print(f\"Epoch {i+1}: Test accuracy: {test_acc:.4f} \"\n",
        "                  f\"Sensitivity: {sensitivity:.4f} Specificity: {specificity:.4f} \"\n",
        "                  f\"Time: {time.time()-start_time:.2f} sec \")\n",
        "\n",
        "        confusion = self.confusion_matrix(x_test, y_test)\n",
        "        print(\"\")\n",
        "        print(\"Confusion matrix after all epochs:\")\n",
        "        print(\"\")\n",
        "        print(confusion)"
      ],
      "metadata": {
        "id": "zpBA0cvBM9DD"
      },
      "execution_count": 4,
      "outputs": []
    },
    {
      "cell_type": "code",
      "source": [
        "def one_hot(x, k, dtype=np.float32):\n",
        "    x = np.array(x)\n",
        "    return np.array(x[:, None] == np.arange(k), dtype)"
      ],
      "metadata": {
        "id": "fnz2zaerrCTj"
      },
      "execution_count": 5,
      "outputs": []
    },
    {
      "cell_type": "markdown",
      "source": [
        "Functions that allow us to easily visualize the generated images."
      ],
      "metadata": {
        "id": "UhVq_sumai9G"
      }
    },
    {
      "cell_type": "code",
      "execution_count": 6,
      "metadata": {
        "id": "isEGfzbO1qWn"
      },
      "outputs": [],
      "source": [
        "def show_images(image, num_row=2, num_col=5):\n",
        "    image_size = int(np.sqrt(image.shape[-1]))\n",
        "    image = np.reshape(image, (image.shape[0], image_size, image_size))\n",
        "    fig, axes = plt.subplots(num_row, num_col, figsize=(1.5*num_col,2*num_row))\n",
        "    for i in range(num_row*num_col):\n",
        "        ax = axes[i//num_col, i%num_col]\n",
        "        ax.imshow(image[i], cmap='gray', vmin=0, vmax=1)\n",
        "        ax.axis('off')\n",
        "    plt.tight_layout()\n",
        "    plt.show()"
      ]
    },
    {
      "cell_type": "markdown",
      "source": [
        "Loading and normalization of data:\n"
      ],
      "metadata": {
        "id": "jPr5K8K7a37h"
      }
    },
    {
      "cell_type": "code",
      "execution_count": 7,
      "metadata": {
        "scrolled": true,
        "collapsed": true,
        "id": "_v-pVQKa1qWn"
      },
      "outputs": [],
      "source": [
        "mnist_data = fetch_openml(\"mnist_784\")\n",
        "x = mnist_data[\"data\"]\n",
        "y = mnist_data[\"target\"]\n",
        "\n",
        "x /= 255.0\n",
        "\n",
        "num_labels = 10\n",
        "y_new = one_hot(y.astype('int32'), num_labels)\n",
        "x_train, x_test, y_train, y_test = train_test_split(x, y_new, test_size=0.3, shuffle=True)"
      ]
    },
    {
      "cell_type": "code",
      "source": [
        "show_images(x_train)"
      ],
      "metadata": {
        "colab": {
          "base_uri": "https://localhost:8080/",
          "height": 300
        },
        "id": "Qx6vIBflYla_",
        "outputId": "e7e527c0-39b4-4bc1-bf85-624f0797c7a9"
      },
      "execution_count": 8,
      "outputs": [
        {
          "output_type": "display_data",
          "data": {
            "text/plain": [
              "<Figure size 750x400 with 10 Axes>"
            ],
            "image/png": "[encoded data removed]"
          },
          "metadata": {}
        }
      ]
    },
    {
      "cell_type": "markdown",
      "source": [
        "Let's move on to creating a 5-layer neural network with custom activation functions for each layer (specifically, ReLU and sigmoid).\n"
      ],
      "metadata": {
        "id": "w_-8M-3VbxS5"
      }
    },
    {
      "cell_type": "code",
      "execution_count": 9,
      "metadata": {
        "scrolled": false,
        "colab": {
          "base_uri": "https://localhost:8080/"
        },
        "id": "pi3RzRkT1qWq",
        "outputId": "e5272c87-3718-4a93-b92f-14d099630cd2"
      },
      "outputs": [
        {
          "output_type": "stream",
          "name": "stdout",
          "text": [
            "Epoch 1: Test accuracy: 0.3905 Sensitivity: 0.3798 Specificity: 0.9321 Time: 13.56 sec \n",
            "Epoch 2: Test accuracy: 0.4865 Sensitivity: 0.4778 Specificity: 0.9428 Time: 3.76 sec \n",
            "Epoch 3: Test accuracy: 0.6594 Sensitivity: 0.6551 Specificity: 0.9622 Time: 3.24 sec \n",
            "Epoch 4: Test accuracy: 0.8299 Sensitivity: 0.8272 Specificity: 0.9811 Time: 3.20 sec \n",
            "Epoch 5: Test accuracy: 0.8843 Sensitivity: 0.8831 Specificity: 0.9872 Time: 7.49 sec \n",
            "Epoch 6: Test accuracy: 0.9105 Sensitivity: 0.9100 Specificity: 0.9901 Time: 3.50 sec \n",
            "Epoch 7: Test accuracy: 0.9307 Sensitivity: 0.9301 Specificity: 0.9923 Time: 3.33 sec \n",
            "Epoch 8: Test accuracy: 0.9347 Sensitivity: 0.9344 Specificity: 0.9928 Time: 5.29 sec \n",
            "Epoch 9: Test accuracy: 0.9325 Sensitivity: 0.9322 Specificity: 0.9925 Time: 3.32 sec \n",
            "Epoch 10: Test accuracy: 0.9497 Sensitivity: 0.9494 Specificity: 0.9944 Time: 3.19 sec \n",
            "\n",
            "Confusion matrix after all epochs:\n",
            "\n",
            "[[1993    0    5    2    0    9    7    5    6    0]\n",
            " [   0 2244   11    8    3    0    2    1   27    9]\n",
            " [  12    0 1972   36    1    0   30   14   17    2]\n",
            " [   2    1   29 2078    0   30    2   18   12    2]\n",
            " [   0    8    7    1 1941    3   26   10    3   65]\n",
            " [  16    0    6   61   11 1781   10   10   18    3]\n",
            " [  22    3    6    0    4   21 2005    1    8    0]\n",
            " [   9    3   20   28    3    2    2 2065    6   29]\n",
            " [   0   14   20   30    4   41   23    4 1900   11]\n",
            " [   5    3    2   20   35   16    0   87   14 1964]]\n"
          ]
        }
      ],
      "source": [
        "x_train_values = x_train.values\n",
        "nn = NeuralNetwork([784, 128, 64, 32, 16, 10], activations=['relu', 'sigmoid', 'relu', 'sigmoid', 'relu'])\n",
        "nn.train(x_train_values, y_train, x_test, y_test, batch_size=128, l_rate=0.1)"
      ]
    },
    {
      "cell_type": "markdown",
      "source": [
        "As we can see, the trained neural network performs excellently.\n"
      ],
      "metadata": {
        "id": "n2mgau49bsSR"
      }
    }
  ],
  "metadata": {
    "kernelspec": {
      "display_name": "Python 3",
      "language": "python",
      "name": "python3"
    },
    "language_info": {
      "codemirror_mode": {
        "name": "ipython",
        "version": 3
      },
      "file_extension": ".py",
      "mimetype": "text/x-python",
      "name": "python",
      "nbconvert_exporter": "python",
      "pygments_lexer": "ipython3",
      "version": "3.7.1"
    },
    "colab": {
      "provenance": []
    }
  },
  "nbformat": 4,
  "nbformat_minor": 0
}